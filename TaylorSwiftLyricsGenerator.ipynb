{
  "nbformat": 4,
  "nbformat_minor": 0,
  "metadata": {
    "colab": {
      "name": "TaylorSwiftLyricsGenerator.ipynb",
      "provenance": [],
      "collapsed_sections": [],
      "toc_visible": true
    },
    "kernelspec": {
      "display_name": "Python 3",
      "language": "python",
      "name": "python3"
    },
    "language_info": {
      "codemirror_mode": {
        "name": "ipython",
        "version": 3
      },
      "file_extension": ".py",
      "mimetype": "text/x-python",
      "name": "python",
      "nbconvert_exporter": "python",
      "pygments_lexer": "ipython3",
      "version": "3.7.4"
    }
  },
  "cells": [
    {
      "cell_type": "markdown",
      "metadata": {
        "colab_type": "text",
        "id": "tCAlBlV6X3bs"
      },
      "source": [
        "# **Taylor Swift Lyrics Generator**"
      ]
    },
    {
      "cell_type": "markdown",
      "metadata": {
        "colab_type": "text",
        "id": "kQsU-xb5cPWp"
      },
      "source": [
        "## **1.\tProblem Formulation**"
      ]
    },
    {
      "cell_type": "markdown",
      "metadata": {
        "colab_type": "text",
        "id": "RMklGWwzcdhb"
      },
      "source": [
        "LSTM Recurrent Neural Networks can be used in many applications , the following are the most popular ones :\n",
        "- Language modeling\n",
        "- Text classification\n",
        "- Dialog systems\n",
        "- **Natural language generation**\n",
        "\n",
        "In this project , we decided to develop a natural language generation application which consists in the generation of Taylor Swift lyrics using LSTM-RNNs.\n",
        "This application will tell us if machine learning (ML) techniques could write better songs for Taylor Swift."
      ]
    },
    {
      "cell_type": "markdown",
      "metadata": {
        "colab_type": "text",
        "id": "-6brQ-WDdN5r"
      },
      "source": [
        "## **2.\tPreparing the workspace**"
      ]
    },
    {
      "cell_type": "code",
      "metadata": {
        "colab_type": "code",
        "id": "XgmJ0-KtJlNC",
        "colab": {}
      },
      "source": [
        "#importing libraries\n",
        "import numpy as np\n",
        "import pandas as pd\n",
        "import sys \n",
        "import seaborn as sns\n",
        "from keras.models import Sequential\n",
        "from keras.layers import LSTM, Activation, Flatten, Dropout, Dense, Embedding, TimeDistributed\n",
        "from keras.callbacks import ModelCheckpoint\n",
        "from keras.utils import np_utils\n",
        "import tensorflow as tf"
      ],
      "execution_count": 0,
      "outputs": []
    },
    {
      "cell_type": "markdown",
      "metadata": {
        "colab_type": "text",
        "id": "r0DhH4K5d7ya"
      },
      "source": [
        "## **3.\tPre-Processing**"
      ]
    },
    {
      "cell_type": "markdown",
      "metadata": {
        "colab_type": "text",
        "id": "0JZWtC_TeJkd"
      },
      "source": [
        "We collect data from a wide range of sources and most of the time, it is collected in raw format which is not applicable for the analysis. Data Preprocessing is then the first step in starting to work with data."
      ]
    },
    {
      "cell_type": "markdown",
      "metadata": {
        "colab_type": "text",
        "id": "l0HTkFK1eYgP"
      },
      "source": [
        "### **3.1\tData Acquisition and Exploration**"
      ]
    },
    {
      "cell_type": "code",
      "metadata": {
        "colab_type": "code",
        "id": "zcsPxwHhJsY0",
        "colab": {}
      },
      "source": [
        "#loading dataset\n",
        "dataset = pd.read_csv('taylor_swift_lyrics.csv', encoding = \"latin1\")"
      ],
      "execution_count": 0,
      "outputs": []
    },
    {
      "cell_type": "markdown",
      "metadata": {
        "colab_type": "text",
        "id": "_5anTTFdetkp"
      },
      "source": [
        "### **3.2\tThe Dataset and the Data Dictionary**"
      ]
    },
    {
      "cell_type": "markdown",
      "metadata": {
        "colab_type": "text",
        "id": "KVTk75Yze0zz"
      },
      "source": [
        "Our dataset has the following data fields:\n",
        "-\tartist : Artist name\n",
        "- album : Album name\n",
        "-\ttrack_title : Song title\n",
        "-\ttrack_n : Track number in the album\n",
        "-\tlyric : Lyric\n",
        "-\tline : Line number in the track\n",
        "-\tyear : Year of release\n"
      ]
    },
    {
      "cell_type": "markdown",
      "metadata": {
        "colab_type": "text",
        "id": "C8KUm5ezfAnY"
      },
      "source": [
        "### **3.3\tUnivariate Analysis and Quality Checks**"
      ]
    },
    {
      "cell_type": "code",
      "metadata": {
        "colab_type": "code",
        "id": "cWmxppE3gRYU",
        "outputId": "55cfbbbc-c9fd-426b-c984-28984b499cf6",
        "colab": {
          "base_uri": "https://localhost:8080/",
          "height": 662
        }
      },
      "source": [
        "#displaying first 20 rows of the daaset\n",
        "dataset.head(20)"
      ],
      "execution_count": 0,
      "outputs": [
        {
          "output_type": "execute_result",
          "data": {
            "text/html": [
              "<div>\n",
              "<style scoped>\n",
              "    .dataframe tbody tr th:only-of-type {\n",
              "        vertical-align: middle;\n",
              "    }\n",
              "\n",
              "    .dataframe tbody tr th {\n",
              "        vertical-align: top;\n",
              "    }\n",
              "\n",
              "    .dataframe thead th {\n",
              "        text-align: right;\n",
              "    }\n",
              "</style>\n",
              "<table border=\"1\" class=\"dataframe\">\n",
              "  <thead>\n",
              "    <tr style=\"text-align: right;\">\n",
              "      <th></th>\n",
              "      <th>artist</th>\n",
              "      <th>album</th>\n",
              "      <th>track_title</th>\n",
              "      <th>track_n</th>\n",
              "      <th>lyric</th>\n",
              "      <th>line</th>\n",
              "      <th>year</th>\n",
              "    </tr>\n",
              "  </thead>\n",
              "  <tbody>\n",
              "    <tr>\n",
              "      <th>0</th>\n",
              "      <td>Taylor Swift</td>\n",
              "      <td>Taylor Swift</td>\n",
              "      <td>Tim McGraw</td>\n",
              "      <td>1</td>\n",
              "      <td>He said the way my blue eyes shined</td>\n",
              "      <td>1</td>\n",
              "      <td>2006</td>\n",
              "    </tr>\n",
              "    <tr>\n",
              "      <th>1</th>\n",
              "      <td>Taylor Swift</td>\n",
              "      <td>Taylor Swift</td>\n",
              "      <td>Tim McGraw</td>\n",
              "      <td>1</td>\n",
              "      <td>Put those Georgia stars to shame that night</td>\n",
              "      <td>2</td>\n",
              "      <td>2006</td>\n",
              "    </tr>\n",
              "    <tr>\n",
              "      <th>2</th>\n",
              "      <td>Taylor Swift</td>\n",
              "      <td>Taylor Swift</td>\n",
              "      <td>Tim McGraw</td>\n",
              "      <td>1</td>\n",
              "      <td>I said, \"That's a lie\"</td>\n",
              "      <td>3</td>\n",
              "      <td>2006</td>\n",
              "    </tr>\n",
              "    <tr>\n",
              "      <th>3</th>\n",
              "      <td>Taylor Swift</td>\n",
              "      <td>Taylor Swift</td>\n",
              "      <td>Tim McGraw</td>\n",
              "      <td>1</td>\n",
              "      <td>Just a boy in a Chevy truck</td>\n",
              "      <td>4</td>\n",
              "      <td>2006</td>\n",
              "    </tr>\n",
              "    <tr>\n",
              "      <th>4</th>\n",
              "      <td>Taylor Swift</td>\n",
              "      <td>Taylor Swift</td>\n",
              "      <td>Tim McGraw</td>\n",
              "      <td>1</td>\n",
              "      <td>That had a tendency of gettin' stuck</td>\n",
              "      <td>5</td>\n",
              "      <td>2006</td>\n",
              "    </tr>\n",
              "    <tr>\n",
              "      <th>5</th>\n",
              "      <td>Taylor Swift</td>\n",
              "      <td>Taylor Swift</td>\n",
              "      <td>Tim McGraw</td>\n",
              "      <td>1</td>\n",
              "      <td>On backroads at night</td>\n",
              "      <td>6</td>\n",
              "      <td>2006</td>\n",
              "    </tr>\n",
              "    <tr>\n",
              "      <th>6</th>\n",
              "      <td>Taylor Swift</td>\n",
              "      <td>Taylor Swift</td>\n",
              "      <td>Tim McGraw</td>\n",
              "      <td>1</td>\n",
              "      <td>And I was right there beside him all summer long</td>\n",
              "      <td>7</td>\n",
              "      <td>2006</td>\n",
              "    </tr>\n",
              "    <tr>\n",
              "      <th>7</th>\n",
              "      <td>Taylor Swift</td>\n",
              "      <td>Taylor Swift</td>\n",
              "      <td>Tim McGraw</td>\n",
              "      <td>1</td>\n",
              "      <td>And then the time we woke up to find that summ...</td>\n",
              "      <td>8</td>\n",
              "      <td>2006</td>\n",
              "    </tr>\n",
              "    <tr>\n",
              "      <th>8</th>\n",
              "      <td>Taylor Swift</td>\n",
              "      <td>Taylor Swift</td>\n",
              "      <td>Tim McGraw</td>\n",
              "      <td>1</td>\n",
              "      <td>But when you think Tim McGraw</td>\n",
              "      <td>9</td>\n",
              "      <td>2006</td>\n",
              "    </tr>\n",
              "    <tr>\n",
              "      <th>9</th>\n",
              "      <td>Taylor Swift</td>\n",
              "      <td>Taylor Swift</td>\n",
              "      <td>Tim McGraw</td>\n",
              "      <td>1</td>\n",
              "      <td>I hope you think my favorite song</td>\n",
              "      <td>10</td>\n",
              "      <td>2006</td>\n",
              "    </tr>\n",
              "    <tr>\n",
              "      <th>10</th>\n",
              "      <td>Taylor Swift</td>\n",
              "      <td>Taylor Swift</td>\n",
              "      <td>Tim McGraw</td>\n",
              "      <td>1</td>\n",
              "      <td>The one we danced to all night long</td>\n",
              "      <td>11</td>\n",
              "      <td>2006</td>\n",
              "    </tr>\n",
              "    <tr>\n",
              "      <th>11</th>\n",
              "      <td>Taylor Swift</td>\n",
              "      <td>Taylor Swift</td>\n",
              "      <td>Tim McGraw</td>\n",
              "      <td>1</td>\n",
              "      <td>The moon like a spotlight on the lake</td>\n",
              "      <td>12</td>\n",
              "      <td>2006</td>\n",
              "    </tr>\n",
              "    <tr>\n",
              "      <th>12</th>\n",
              "      <td>Taylor Swift</td>\n",
              "      <td>Taylor Swift</td>\n",
              "      <td>Tim McGraw</td>\n",
              "      <td>1</td>\n",
              "      <td>When you think happiness</td>\n",
              "      <td>13</td>\n",
              "      <td>2006</td>\n",
              "    </tr>\n",
              "    <tr>\n",
              "      <th>13</th>\n",
              "      <td>Taylor Swift</td>\n",
              "      <td>Taylor Swift</td>\n",
              "      <td>Tim McGraw</td>\n",
              "      <td>1</td>\n",
              "      <td>I hope you think that little black dress</td>\n",
              "      <td>14</td>\n",
              "      <td>2006</td>\n",
              "    </tr>\n",
              "    <tr>\n",
              "      <th>14</th>\n",
              "      <td>Taylor Swift</td>\n",
              "      <td>Taylor Swift</td>\n",
              "      <td>Tim McGraw</td>\n",
              "      <td>1</td>\n",
              "      <td>Think of my head on your chest</td>\n",
              "      <td>15</td>\n",
              "      <td>2006</td>\n",
              "    </tr>\n",
              "    <tr>\n",
              "      <th>15</th>\n",
              "      <td>Taylor Swift</td>\n",
              "      <td>Taylor Swift</td>\n",
              "      <td>Tim McGraw</td>\n",
              "      <td>1</td>\n",
              "      <td>And my old faded blue jeans</td>\n",
              "      <td>16</td>\n",
              "      <td>2006</td>\n",
              "    </tr>\n",
              "    <tr>\n",
              "      <th>16</th>\n",
              "      <td>Taylor Swift</td>\n",
              "      <td>Taylor Swift</td>\n",
              "      <td>Tim McGraw</td>\n",
              "      <td>1</td>\n",
              "      <td>When you think Tim McGraw</td>\n",
              "      <td>17</td>\n",
              "      <td>2006</td>\n",
              "    </tr>\n",
              "    <tr>\n",
              "      <th>17</th>\n",
              "      <td>Taylor Swift</td>\n",
              "      <td>Taylor Swift</td>\n",
              "      <td>Tim McGraw</td>\n",
              "      <td>1</td>\n",
              "      <td>I hope you think of me</td>\n",
              "      <td>18</td>\n",
              "      <td>2006</td>\n",
              "    </tr>\n",
              "    <tr>\n",
              "      <th>18</th>\n",
              "      <td>Taylor Swift</td>\n",
              "      <td>Taylor Swift</td>\n",
              "      <td>Tim McGraw</td>\n",
              "      <td>1</td>\n",
              "      <td>September saw a month of tears</td>\n",
              "      <td>19</td>\n",
              "      <td>2006</td>\n",
              "    </tr>\n",
              "    <tr>\n",
              "      <th>19</th>\n",
              "      <td>Taylor Swift</td>\n",
              "      <td>Taylor Swift</td>\n",
              "      <td>Tim McGraw</td>\n",
              "      <td>1</td>\n",
              "      <td>And thankin' God that you weren't here</td>\n",
              "      <td>20</td>\n",
              "      <td>2006</td>\n",
              "    </tr>\n",
              "  </tbody>\n",
              "</table>\n",
              "</div>"
            ],
            "text/plain": [
              "          artist         album  ... line  year\n",
              "0   Taylor Swift  Taylor Swift  ...    1  2006\n",
              "1   Taylor Swift  Taylor Swift  ...    2  2006\n",
              "2   Taylor Swift  Taylor Swift  ...    3  2006\n",
              "3   Taylor Swift  Taylor Swift  ...    4  2006\n",
              "4   Taylor Swift  Taylor Swift  ...    5  2006\n",
              "5   Taylor Swift  Taylor Swift  ...    6  2006\n",
              "6   Taylor Swift  Taylor Swift  ...    7  2006\n",
              "7   Taylor Swift  Taylor Swift  ...    8  2006\n",
              "8   Taylor Swift  Taylor Swift  ...    9  2006\n",
              "9   Taylor Swift  Taylor Swift  ...   10  2006\n",
              "10  Taylor Swift  Taylor Swift  ...   11  2006\n",
              "11  Taylor Swift  Taylor Swift  ...   12  2006\n",
              "12  Taylor Swift  Taylor Swift  ...   13  2006\n",
              "13  Taylor Swift  Taylor Swift  ...   14  2006\n",
              "14  Taylor Swift  Taylor Swift  ...   15  2006\n",
              "15  Taylor Swift  Taylor Swift  ...   16  2006\n",
              "16  Taylor Swift  Taylor Swift  ...   17  2006\n",
              "17  Taylor Swift  Taylor Swift  ...   18  2006\n",
              "18  Taylor Swift  Taylor Swift  ...   19  2006\n",
              "19  Taylor Swift  Taylor Swift  ...   20  2006\n",
              "\n",
              "[20 rows x 7 columns]"
            ]
          },
          "metadata": {
            "tags": []
          },
          "execution_count": 25
        }
      ]
    },
    {
      "cell_type": "code",
      "metadata": {
        "colab_type": "code",
        "id": "r41d3ASDgi_X",
        "outputId": "9c395ab1-02e6-4011-c18b-69f19d4014b9",
        "colab": {
          "base_uri": "https://localhost:8080/",
          "height": 34
        }
      },
      "source": [
        "#shape of dataset\n",
        "dataset.shape"
      ],
      "execution_count": 0,
      "outputs": [
        {
          "output_type": "execute_result",
          "data": {
            "text/plain": [
              "(4862, 7)"
            ]
          },
          "metadata": {
            "tags": []
          },
          "execution_count": 26
        }
      ]
    },
    {
      "cell_type": "markdown",
      "metadata": {
        "colab_type": "text",
        "id": "cIXONPYvgZpk"
      },
      "source": [
        "The dataset is composed of 7 columns / variables /predictors and 4862 rows (4862 lines of lyrics from different songs)"
      ]
    },
    {
      "cell_type": "markdown",
      "metadata": {
        "colab_type": "text",
        "id": "aYuTFls1hbrj"
      },
      "source": [
        "**Univariate analysis of variables :**"
      ]
    },
    {
      "cell_type": "markdown",
      "metadata": {
        "colab_type": "text",
        "id": "hdr-p5odhlDn"
      },
      "source": [
        "•\tUnivariate Analysis of variable : artist"
      ]
    },
    {
      "cell_type": "code",
      "metadata": {
        "colab_type": "code",
        "id": "7MxUFuqVhuD5",
        "outputId": "cb7fd67f-a5d8-4e4b-f86c-6493aede1fdb",
        "colab": {
          "base_uri": "https://localhost:8080/",
          "height": 296
        }
      },
      "source": [
        "sns.countplot(x='artist',data=dataset,color='pink')"
      ],
      "execution_count": 0,
      "outputs": [
        {
          "output_type": "execute_result",
          "data": {
            "text/plain": [
              "<matplotlib.axes._subplots.AxesSubplot at 0x7f93879b9240>"
            ]
          },
          "metadata": {
            "tags": []
          },
          "execution_count": 27
        },
        {
          "output_type": "display_data",
          "data": {
            "image/png": "[encoded data removed]",
            "text/plain": [
              "<Figure size 432x288 with 1 Axes>"
            ]
          },
          "metadata": {
            "tags": [],
            "needs_background": "light"
          }
        }
      ]
    },
    {
      "cell_type": "markdown",
      "metadata": {
        "colab_type": "text",
        "id": "TLFBYL2jiisS"
      },
      "source": [
        "The variable artist only takes one value which is “Taylor Swift”, this is normal because we are analyzing Taylor Swift’s lyrics.\n",
        "We can get rid of this variable because it doesn’t impact our analysis since it doesn’t change.\n"
      ]
    },
    {
      "cell_type": "markdown",
      "metadata": {
        "colab_type": "text",
        "id": "2nOqMEPRhuzW"
      },
      "source": [
        "•\tUnivariate Analysis of variable : album"
      ]
    },
    {
      "cell_type": "code",
      "metadata": {
        "colab_type": "code",
        "id": "KPyeKtUIhvia",
        "outputId": "633edf9e-81a8-4329-9784-90b1a891d082",
        "colab": {
          "base_uri": "https://localhost:8080/",
          "height": 296
        }
      },
      "source": [
        "sns.countplot(x='album',data=dataset,palette='cubehelix')"
      ],
      "execution_count": 0,
      "outputs": [
        {
          "output_type": "execute_result",
          "data": {
            "text/plain": [
              "<matplotlib.axes._subplots.AxesSubplot at 0x7f9387959eb8>"
            ]
          },
          "metadata": {
            "tags": []
          },
          "execution_count": 28
        },
        {
          "output_type": "display_data",
          "data": {
            "image/png": "[encoded data removed]",
            "text/plain": [
              "<Figure size 432x288 with 1 Axes>"
            ]
          },
          "metadata": {
            "tags": [],
            "needs_background": "light"
          }
        }
      ]
    },
    {
      "cell_type": "markdown",
      "metadata": {
        "colab_type": "text",
        "id": "hen1GA3ci4WD"
      },
      "source": [
        "•\tUnivariate Analysis of variable : track_title"
      ]
    },
    {
      "cell_type": "code",
      "metadata": {
        "colab_type": "code",
        "id": "-8FDajOFjIDa",
        "outputId": "eac776da-06d8-488a-df0a-2623b02c2a4b",
        "colab": {
          "base_uri": "https://localhost:8080/",
          "height": 297
        }
      },
      "source": [
        "sns.countplot(x='track_title',data=dataset,palette='flag_r')"
      ],
      "execution_count": 0,
      "outputs": [
        {
          "output_type": "execute_result",
          "data": {
            "text/plain": [
              "<matplotlib.axes._subplots.AxesSubplot at 0x7f938741fe10>"
            ]
          },
          "metadata": {
            "tags": []
          },
          "execution_count": 29
        },
        {
          "output_type": "display_data",
          "data": {
            "image/png": "[encoded data removed]",
            "text/plain": [
              "<Figure size 432x288 with 1 Axes>"
            ]
          },
          "metadata": {
            "tags": [],
            "needs_background": "light"
          }
        }
      ]
    },
    {
      "cell_type": "markdown",
      "metadata": {
        "colab_type": "text",
        "id": "KODj39UUi55H"
      },
      "source": [
        "•\tUnivariate Analysis of variable : track_n"
      ]
    },
    {
      "cell_type": "code",
      "metadata": {
        "colab_type": "code",
        "id": "H--SRnvGjRdI",
        "outputId": "3844e8bc-d185-414f-8b54-01db4dedcf4d",
        "colab": {
          "base_uri": "https://localhost:8080/",
          "height": 297
        }
      },
      "source": [
        "sns.countplot(x='track_n',data=dataset,palette='RdPu')"
      ],
      "execution_count": 0,
      "outputs": [
        {
          "output_type": "execute_result",
          "data": {
            "text/plain": [
              "<matplotlib.axes._subplots.AxesSubplot at 0x7f93871dadd8>"
            ]
          },
          "metadata": {
            "tags": []
          },
          "execution_count": 30
        },
        {
          "output_type": "display_data",
          "data": {
            "image/png": "[encoded data removed]",
            "text/plain": [
              "<Figure size 432x288 with 1 Axes>"
            ]
          },
          "metadata": {
            "tags": [],
            "needs_background": "light"
          }
        }
      ]
    },
    {
      "cell_type": "markdown",
      "metadata": {
        "colab_type": "text",
        "id": "fxkxHadpi_7n"
      },
      "source": [
        "•\tUnivariate Analysis of variable : line"
      ]
    },
    {
      "cell_type": "code",
      "metadata": {
        "colab_type": "code",
        "id": "BrtYVV6hjX9u",
        "outputId": "9d8588c2-2cd2-4cb8-9a09-23a2cf0409fd",
        "colab": {
          "base_uri": "https://localhost:8080/",
          "height": 296
        }
      },
      "source": [
        "sns.countplot(x='line',data=dataset,palette='YlGn_r')"
      ],
      "execution_count": 0,
      "outputs": [
        {
          "output_type": "execute_result",
          "data": {
            "text/plain": [
              "<matplotlib.axes._subplots.AxesSubplot at 0x7f93870ee048>"
            ]
          },
          "metadata": {
            "tags": []
          },
          "execution_count": 31
        },
        {
          "output_type": "display_data",
          "data": {
            "image/png": "[encoded data removed]",
            "text/plain": [
              "<Figure size 432x288 with 1 Axes>"
            ]
          },
          "metadata": {
            "tags": [],
            "needs_background": "light"
          }
        }
      ]
    },
    {
      "cell_type": "markdown",
      "metadata": {
        "colab_type": "text",
        "id": "v59EB26MjCET"
      },
      "source": [
        "•\tUnivariate Analysis of variable : year"
      ]
    },
    {
      "cell_type": "code",
      "metadata": {
        "colab_type": "code",
        "id": "CuIxwHqXjiXB",
        "outputId": "cf970452-a6a9-46d3-88c3-bb7ea21d8432",
        "colab": {
          "base_uri": "https://localhost:8080/",
          "height": 296
        }
      },
      "source": [
        "sns.countplot(x='album',data=dataset,palette='coolwarm')"
      ],
      "execution_count": 0,
      "outputs": [
        {
          "output_type": "execute_result",
          "data": {
            "text/plain": [
              "<matplotlib.axes._subplots.AxesSubplot at 0x7f9387134390>"
            ]
          },
          "metadata": {
            "tags": []
          },
          "execution_count": 32
        },
        {
          "output_type": "display_data",
          "data": {
            "image/png": "[encoded data removed]",
            "text/plain": [
              "<Figure size 432x288 with 1 Axes>"
            ]
          },
          "metadata": {
            "tags": [],
            "needs_background": "light"
          }
        }
      ]
    },
    {
      "cell_type": "markdown",
      "metadata": {
        "colab_type": "text",
        "id": "hr7kbzJOjv4R"
      },
      "source": [
        "**Quality check of dataset:**"
      ]
    },
    {
      "cell_type": "code",
      "metadata": {
        "colab_type": "code",
        "id": "JUT1LZrXkcE0",
        "outputId": "bc9d8433-627c-426c-86b2-cfd95923a807",
        "colab": {
          "base_uri": "https://localhost:8080/",
          "height": 260
        }
      },
      "source": [
        "#displaying info about dataset\n",
        "dataset.info()"
      ],
      "execution_count": 0,
      "outputs": [
        {
          "output_type": "stream",
          "text": [
            "<class 'pandas.core.frame.DataFrame'>\n",
            "RangeIndex: 4862 entries, 0 to 4861\n",
            "Data columns (total 7 columns):\n",
            " #   Column       Non-Null Count  Dtype \n",
            "---  ------       --------------  ----- \n",
            " 0   artist       4862 non-null   object\n",
            " 1   album        4862 non-null   object\n",
            " 2   track_title  4862 non-null   object\n",
            " 3   track_n      4862 non-null   int64 \n",
            " 4   lyric        4862 non-null   object\n",
            " 5   line         4862 non-null   int64 \n",
            " 6   year         4862 non-null   int64 \n",
            "dtypes: int64(3), object(4)\n",
            "memory usage: 266.0+ KB\n"
          ],
          "name": "stdout"
        }
      ]
    },
    {
      "cell_type": "markdown",
      "metadata": {
        "colab_type": "text",
        "id": "3Sv5czIvkiAv"
      },
      "source": [
        "The dataset doesn’t contain missing values, we have exactly 4862 non-null values in each variable."
      ]
    },
    {
      "cell_type": "markdown",
      "metadata": {
        "colab_type": "text",
        "id": "frenUdAhklGY"
      },
      "source": [
        "Now that we studied and checked our data quality, let’s prepare and tidy it in order to fit our needs."
      ]
    },
    {
      "cell_type": "markdown",
      "metadata": {
        "colab_type": "text",
        "id": "o7RQj8fCkqsk"
      },
      "source": [
        "### **3.4 Dataset Tidying**"
      ]
    },
    {
      "cell_type": "code",
      "metadata": {
        "colab_type": "code",
        "id": "r6BiNTOfJ0Kt",
        "colab": {}
      },
      "source": [
        "#function to help us process first lines of songs\n",
        "def processFirstLine(lyrics, songID, songName, row):\n",
        "    lyrics.append(row['lyric'] + '\\n')\n",
        "    songID.append( row['year']*100+ row['track_n'])\n",
        "    songName.append(row['track_title'])\n",
        "    return lyrics,songID,songName"
      ],
      "execution_count": 0,
      "outputs": []
    },
    {
      "cell_type": "code",
      "metadata": {
        "colab_type": "code",
        "id": "AmtekAlkJ3Ju",
        "colab": {}
      },
      "source": [
        "lyrics = [] #initializing an empty list lyrics\n",
        "songID = []#initializing an empty list songID\n",
        "songName = []#initializing an empty list songName\n",
        "\n",
        "songNumber = 1 #initializing songNumber at 1\n",
        "\n",
        "i = 0 #initializing counter i at 0\n",
        "\n",
        "isFirstLine = True #initializing condition isFirstLine at True\n",
        "\n",
        "for index,row in dataset.iterrows(): #iterating through dataset's row\n",
        "    if(songNumber == row['track_n']):#testing if the row belongs to the song with tranck_n=songNumber\n",
        "        if (isFirstLine):#testing if it’s the first lyric line of the song \n",
        "    #we use function processFirstLine to store and memorize information about the song (we append row['year']*100+ row['track_n'] to songID and row['track_title'] to songName)and append the lyric line to the list lyrics .\n",
        "            lyrics,songID,songName = processFirstLine(lyrics,songID,songName,row)\n",
        "            isFirstLine = False #changing value of isFirstLine to False\n",
        "        else :# Ifthe row belongs to the song with tranck_n=songNumber but it is a non-first line lyric\n",
        "            lyrics[i] +=  row['lyric'] + '\\n'#concatenate the lyric of the row with the previous lines from the same song using iterator i.\n",
        "    else :#If the row doesn’t belong to the song with tranck_n=songNumber\n",
        "    #use the processFirstLine function to store information again about the new song and append the lyric line to the list lyrics.\n",
        "        lyrics,songID,songName = processFirstLine(lyrics,songID,songName,row)\n",
        "    #Updating value of songNumber to track_n of the new song\n",
        "        songNumber = row['track_n']\n",
        "    ##Updating value of i to move to the next element of lyrics\n",
        "        i+=1"
      ],
      "execution_count": 0,
      "outputs": []
    },
    {
      "cell_type": "markdown",
      "metadata": {
        "colab_type": "text",
        "id": "UPjfwICmlzeg"
      },
      "source": [
        "At the end of this program, we obtain a :\n",
        " -\tList songID whose elements are unique identifiers of songs (a linear combination of year and track_n)"
      ]
    },
    {
      "cell_type": "markdown",
      "metadata": {
        "colab_type": "text",
        "id": "29VYM7WCmEqF"
      },
      "source": [
        "- List songName whose elements are track_title of songs"
      ]
    },
    {
      "cell_type": "markdown",
      "metadata": {
        "colab_type": "text",
        "id": "udhcCeTXmPvs"
      },
      "source": [
        "- List lyrics whose elements are lyrics of songs. First element for example contains lyrics of song whose track_n is 1 etc …"
      ]
    },
    {
      "cell_type": "markdown",
      "metadata": {
        "colab_type": "text",
        "id": "IQbWU657oAqa"
      },
      "source": [
        "We define a new pandas DataFrame to save songID , songName , Lyric"
      ]
    },
    {
      "cell_type": "code",
      "metadata": {
        "colab_type": "code",
        "id": "yO0s8UcwJ6oM",
        "colab": {}
      },
      "source": [
        "lyrics_data = pd.DataFrame({'songID':songID, 'songName':songName, 'lyrics':lyrics }) \n",
        "#This dataframe is a table whose columns are songID(unique identifier of the song) , songName(track_title of the song) , lyrics(concatenated lyrics of each song)"
      ],
      "execution_count": 0,
      "outputs": []
    },
    {
      "cell_type": "markdown",
      "metadata": {
        "colab_type": "text",
        "id": "uNKvco0worvr"
      },
      "source": [
        "Now we concatenate all songs  lyrics in one text file to use it in the LSTM RNN "
      ]
    },
    {
      "cell_type": "code",
      "metadata": {
        "colab_type": "code",
        "id": "CdzoCnlSKKr-",
        "colab": {}
      },
      "source": [
        "with open('lyricsText.txt', 'w',encoding=\"utf-8\") as filehandle:  \n",
        "    for listitem in lyrics:\n",
        "        filehandle.write('%s\\n' % listitem)"
      ],
      "execution_count": 0,
      "outputs": []
    },
    {
      "cell_type": "markdown",
      "metadata": {
        "colab_type": "text",
        "id": "obWfJ8UOpAWp"
      },
      "source": [
        "We load the file in one huge string that we called raw_text , raw_text is then the concatenation of all songs lyrics and we convert the lyrics to lowercase to be able to map them ."
      ]
    },
    {
      "cell_type": "code",
      "metadata": {
        "colab_type": "code",
        "id": "W_dqPbbkKLpD",
        "colab": {}
      },
      "source": [
        "textFileName = 'lyricsText.txt'\n",
        "raw_text = open(textFileName, encoding = 'UTF-8').read()\n",
        "raw_text = raw_text.lower()"
      ],
      "execution_count": 0,
      "outputs": []
    },
    {
      "cell_type": "markdown",
      "metadata": {
        "colab_type": "text",
        "id": "JCGZ8rVApCQn"
      },
      "source": [
        "Because it gets complicated for machines to understand texts and process them, rather than numbers, and since the models are based on mathematical equations and calculations ,we have to encode the data.We create two dictionaries , one to convert chars to ints, the other to convert ints back to chars in order to map characters :"
      ]
    },
    {
      "cell_type": "code",
      "metadata": {
        "colab_type": "code",
        "id": "_Ii2izhQKLmO",
        "colab": {}
      },
      "source": [
        "chars = sorted(list(set(raw_text)))\n",
        "int_chars = dict((i, c) for i, c in enumerate(chars))\n",
        "chars_int = dict((i, c) for c, i in enumerate(chars))"
      ],
      "execution_count": 0,
      "outputs": []
    },
    {
      "cell_type": "markdown",
      "metadata": {
        "colab_type": "text",
        "id": "EocBTLXGpccp"
      },
      "source": [
        "We count total number of chars and alphabet in our text :"
      ]
    },
    {
      "cell_type": "code",
      "metadata": {
        "colab_type": "code",
        "id": "NxnpoVEbKLkh",
        "colab": {}
      },
      "source": [
        "n_chars = len(raw_text)\n",
        "n_vocab = len(chars)"
      ],
      "execution_count": 0,
      "outputs": []
    },
    {
      "cell_type": "code",
      "metadata": {
        "colab_type": "code",
        "id": "dTvT8uPMKLhf",
        "outputId": "1a9bfefd-3ca5-48fa-9e46-f97f4203852f",
        "colab": {
          "base_uri": "https://localhost:8080/",
          "height": 52
        }
      },
      "source": [
        "print('Number of Characters : ' , n_chars)\n",
        "print('Number of Alphabet : ', n_vocab) "
      ],
      "execution_count": 0,
      "outputs": [
        {
          "output_type": "stream",
          "text": [
            "Number of Characters :  173698\n",
            "Number of Alphabet :  58\n"
          ],
          "name": "stdout"
        }
      ]
    },
    {
      "cell_type": "markdown",
      "metadata": {
        "colab_type": "text",
        "id": "KUDLowXNpoFf"
      },
      "source": [
        "Make samples and labels to feed the LSTM RNN\n",
        "\n",
        "The model will have to take a sequence of 100 characters as input and predict the character that follows this sequence."
      ]
    },
    {
      "cell_type": "code",
      "metadata": {
        "colab_type": "code",
        "id": "FsP41K0ZKLfD",
        "outputId": "bcdfda49-d78a-4936-b74a-9759d740cd03",
        "colab": {
          "base_uri": "https://localhost:8080/",
          "height": 34
        }
      },
      "source": [
        "seq_len = 100 #Inputs of the model will be sequences of 100 characters\n",
        "data_X = []#initializing an empty list data_X that will store sequences of 100 characters\n",
        "data_y = []#initializing an empty list data_y that will store targets of data_X\n",
        "for i in range(0, n_chars - seq_len, 1):#loopint from 1 to number of sequences of length 100 in raw_text\n",
        "    seq_in  = raw_text[i:i+seq_len] #taking a sequence of length 100 from raw_text\n",
        "    seq_out = raw_text[i + seq_len]#taking the character that follows the sequence\n",
        "    data_X.append([chars_int[char] for char in seq_in])#mapping seq_in to integers and append it to data_X\n",
        "    data_y.append(chars_int[seq_out])#mapping the seq_out to integer and append it to data_y\n",
        "n_patterns = len(data_X)\n",
        "print( 'Total Patterns : ', n_patterns)#number of samples"
      ],
      "execution_count": 0,
      "outputs": [
        {
          "output_type": "stream",
          "text": [
            "Total Patterns :  173598\n"
          ],
          "name": "stdout"
        }
      ]
    },
    {
      "cell_type": "code",
      "metadata": {
        "id": "hfJTh_W3fHaz",
        "colab_type": "code",
        "outputId": "09c3a4e3-3cb5-455f-eda8-2930ef80aa13",
        "colab": {
          "base_uri": "https://localhost:8080/",
          "height": 34
        }
      },
      "source": [
        "print( 'Total number of sequences : ', len(data_X))"
      ],
      "execution_count": 0,
      "outputs": [
        {
          "output_type": "stream",
          "text": [
            "Total number of sequences :  173598\n"
          ],
          "name": "stdout"
        }
      ]
    },
    {
      "cell_type": "markdown",
      "metadata": {
        "id": "mavGWz5xfMTA",
        "colab_type": "text"
      },
      "source": [
        "We have  173598 records/samples of 100 sequences and their corresponding targets(the target data_y[i] of a sequence data_X[i] is the character that follow this sequence in the song)"
      ]
    },
    {
      "cell_type": "markdown",
      "metadata": {
        "colab_type": "text",
        "id": "91Yui0X0pqyV"
      },
      "source": [
        "We reshape X to be suitable to go into LSTM RNN"
      ]
    },
    {
      "cell_type": "code",
      "metadata": {
        "colab_type": "code",
        "id": "cCXMyp0mKLcC",
        "colab": {}
      },
      "source": [
        "X = np.reshape(data_X , (n_patterns, seq_len, 1))"
      ],
      "execution_count": 0,
      "outputs": []
    },
    {
      "cell_type": "markdown",
      "metadata": {
        "colab_type": "text",
        "id": "leF3MfucqR_b"
      },
      "source": [
        "We Normalize input data :"
      ]
    },
    {
      "cell_type": "code",
      "metadata": {
        "colab_type": "code",
        "id": "F9Cy4auKp5bT",
        "colab": {}
      },
      "source": [
        "X = X/ float(n_vocab)"
      ],
      "execution_count": 0,
      "outputs": []
    },
    {
      "cell_type": "markdown",
      "metadata": {
        "colab_type": "text",
        "id": "WbBv-Z5MqGFV"
      },
      "source": [
        "We encode and convert the output vector of integers to binary class matrix."
      ]
    },
    {
      "cell_type": "code",
      "metadata": {
        "colab_type": "code",
        "id": "aHYYAaW7p7va",
        "colab": {}
      },
      "source": [
        "y = np_utils.to_categorical(data_y)"
      ],
      "execution_count": 0,
      "outputs": []
    },
    {
      "cell_type": "code",
      "metadata": {
        "colab_type": "code",
        "id": "9Wc_LtvPqXUa",
        "outputId": "586a220f-74ed-46f2-9743-d68cf23c56b4",
        "colab": {
          "base_uri": "https://localhost:8080/",
          "height": 138
        }
      },
      "source": [
        "y"
      ],
      "execution_count": 0,
      "outputs": [
        {
          "output_type": "execute_result",
          "data": {
            "text/plain": [
              "array([[0., 0., 0., ..., 0., 0., 0.],\n",
              "       [0., 0., 0., ..., 0., 0., 0.],\n",
              "       [1., 0., 0., ..., 0., 0., 0.],\n",
              "       ...,\n",
              "       [0., 0., 0., ..., 0., 0., 0.],\n",
              "       [1., 0., 0., ..., 0., 0., 0.],\n",
              "       [1., 0., 0., ..., 0., 0., 0.]], dtype=float32)"
            ]
          },
          "metadata": {
            "tags": []
          },
          "execution_count": 47
        }
      ]
    },
    {
      "cell_type": "markdown",
      "metadata": {
        "id": "JZXvf962ZGwu",
        "colab_type": "text"
      },
      "source": [
        "### **3.5\tTest-train split**"
      ]
    },
    {
      "cell_type": "markdown",
      "metadata": {
        "id": "BIBK94kDjWZO",
        "colab_type": "text"
      },
      "source": [
        "We use function train_test_split from sklearn.model_selection to split data_X and data_y to data_X , data_y(75%) and X_test ,y_test(25%)"
      ]
    },
    {
      "cell_type": "code",
      "metadata": {
        "id": "OtxPtx5AV-Ej",
        "colab_type": "code",
        "colab": {}
      },
      "source": [
        "from sklearn.model_selection import train_test_split\n",
        "X,X_test,y,y_test=train_test_split(X,y,random_state=42)"
      ],
      "execution_count": 0,
      "outputs": []
    },
    {
      "cell_type": "code",
      "metadata": {
        "id": "cQH67V2DWkgb",
        "colab_type": "code",
        "outputId": "25f3115c-81f1-438f-9a13-1c496cbfcf57",
        "colab": {
          "base_uri": "https://localhost:8080/",
          "height": 34
        }
      },
      "source": [
        "len(data_X) #total number of samples before split"
      ],
      "execution_count": 0,
      "outputs": [
        {
          "output_type": "execute_result",
          "data": {
            "text/plain": [
              "173598"
            ]
          },
          "metadata": {
            "tags": []
          },
          "execution_count": 49
        }
      ]
    },
    {
      "cell_type": "code",
      "metadata": {
        "id": "dKFsCvqzM-58",
        "colab_type": "code",
        "outputId": "1e0ad404-d21c-4bbd-bddc-eb47df6a00af",
        "colab": {
          "base_uri": "https://localhost:8080/",
          "height": 34
        }
      },
      "source": [
        "len(X) #number of samples used in training(75%)"
      ],
      "execution_count": 0,
      "outputs": [
        {
          "output_type": "execute_result",
          "data": {
            "text/plain": [
              "130198"
            ]
          },
          "metadata": {
            "tags": []
          },
          "execution_count": 60
        }
      ]
    },
    {
      "cell_type": "code",
      "metadata": {
        "id": "615ME7GrWnDq",
        "colab_type": "code",
        "outputId": "976eae7c-de03-4172-9b06-f5dba84ac8bf",
        "colab": {
          "base_uri": "https://localhost:8080/",
          "height": 34
        }
      },
      "source": [
        "len(X_test) #number of samples used in testing(25%)"
      ],
      "execution_count": 0,
      "outputs": [
        {
          "output_type": "execute_result",
          "data": {
            "text/plain": [
              "43400"
            ]
          },
          "metadata": {
            "tags": []
          },
          "execution_count": 50
        }
      ]
    },
    {
      "cell_type": "markdown",
      "metadata": {
        "colab_type": "text",
        "id": "HPub08Xqr1Dr"
      },
      "source": [
        "## **4. Model Building**"
      ]
    },
    {
      "cell_type": "markdown",
      "metadata": {
        "colab_type": "text",
        "id": "DQ4h-9BSwohu"
      },
      "source": [
        "### **4.1 Building the model from scratch**"
      ]
    },
    {
      "cell_type": "code",
      "metadata": {
        "id": "E2sWHcnKmcYf",
        "colab_type": "code",
        "colab": {}
      },
      "source": [
        "#to obtain same results everytime we run code\n",
        "np.random.seed(42)\n",
        "tf.random.set_seed(42)"
      ],
      "execution_count": 0,
      "outputs": []
    },
    {
      "cell_type": "code",
      "metadata": {
        "colab_type": "code",
        "id": "UVaCAm9_KLJC",
        "colab": {}
      },
      "source": [
        "#defining a sequential model\n",
        "model = Sequential()"
      ],
      "execution_count": 0,
      "outputs": []
    },
    {
      "cell_type": "code",
      "metadata": {
        "colab_type": "code",
        "id": "a9fUgvI-KbNl",
        "colab": {}
      },
      "source": [
        "#add an LSTM layer as input layer\n",
        "model.add(LSTM(256, input_shape =(X.shape[1], X.shape[2]), return_sequences = True))"
      ],
      "execution_count": 0,
      "outputs": []
    },
    {
      "cell_type": "code",
      "metadata": {
        "colab_type": "code",
        "id": "SQVSPKjuKbKv",
        "colab": {}
      },
      "source": [
        "#We add three LSTM layers as hidden layers with 256 nodesin each layer.\n",
        "model.add(LSTM(256, return_sequences=True))\n",
        "model.add(LSTM(256, return_sequences=True))\n",
        "model.add(LSTM(256, return_sequences=True))"
      ],
      "execution_count": 0,
      "outputs": []
    },
    {
      "cell_type": "code",
      "metadata": {
        "colab_type": "code",
        "id": "WcUBIdoGKbIr",
        "colab": {}
      },
      "source": [
        "#We flatten the data that is coming from the last hidden layer to input it to the output layer\n",
        "model.add(Flatten())"
      ],
      "execution_count": 0,
      "outputs": []
    },
    {
      "cell_type": "code",
      "metadata": {
        "colab_type": "code",
        "id": "5maytIfrKbF0",
        "colab": {}
      },
      "source": [
        "#We add a dense which is a fully connected neural network layer where each input node is connected to each output node\n",
        "model.add(Dense(y.shape[1]))\n",
        "#We also add an activation layer that determines activation function our neural network will use to calculate the output of a node.Since it's a multiclassification problem ,we use softmax function.\n",
        "model.add(Activation('softmax'))"
      ],
      "execution_count": 0,
      "outputs": []
    },
    {
      "cell_type": "code",
      "metadata": {
        "id": "WWEwJZDVL8wF",
        "colab_type": "code",
        "colab": {}
      },
      "source": [
        "#Now we compile our model .Since it's a multiclassification problem ,we calculate the loss for each iteration of the training by using categorical cross entropy and optimise our network by using 'adam' optimizer .\n",
        "model.compile(loss = 'categorical_crossentropy', optimizer = 'adam', metrics=[\"accuracy\"])"
      ],
      "execution_count": 0,
      "outputs": []
    },
    {
      "cell_type": "code",
      "metadata": {
        "colab_type": "code",
        "id": "kjO_BkvlKbDg",
        "outputId": "68c1519c-60f5-4b2b-811c-5549038f9a8f",
        "colab": {
          "base_uri": "https://localhost:8080/",
          "height": 398
        }
      },
      "source": [
        "#We can see a summary of our model\n",
        "model.summary()"
      ],
      "execution_count": 0,
      "outputs": [
        {
          "output_type": "stream",
          "text": [
            "Model: \"sequential_1\"\n",
            "_________________________________________________________________\n",
            "Layer (type)                 Output Shape              Param #   \n",
            "=================================================================\n",
            "lstm_1 (LSTM)                (None, 100, 256)          264192    \n",
            "_________________________________________________________________\n",
            "lstm_2 (LSTM)                (None, 100, 256)          525312    \n",
            "_________________________________________________________________\n",
            "lstm_3 (LSTM)                (None, 100, 256)          525312    \n",
            "_________________________________________________________________\n",
            "lstm_4 (LSTM)                (None, 100, 256)          525312    \n",
            "_________________________________________________________________\n",
            "flatten_1 (Flatten)          (None, 25600)             0         \n",
            "_________________________________________________________________\n",
            "dense_1 (Dense)              (None, 58)                1484858   \n",
            "_________________________________________________________________\n",
            "activation_1 (Activation)    (None, 58)                0         \n",
            "=================================================================\n",
            "Total params: 3,324,986\n",
            "Trainable params: 3,324,986\n",
            "Non-trainable params: 0\n",
            "_________________________________________________________________\n"
          ],
          "name": "stdout"
        }
      ]
    },
    {
      "cell_type": "code",
      "metadata": {
        "id": "qbyUzLY_XIjX",
        "colab_type": "code",
        "outputId": "dce90041-3a83-4859-f4ed-564219cefb55",
        "colab": {
          "base_uri": "https://localhost:8080/",
          "height": 758
        }
      },
      "source": [
        "from tensorflow import keras\n",
        "import pydot\n",
        "keras.utils.plot_model(model)"
      ],
      "execution_count": 0,
      "outputs": [
        {
          "output_type": "execute_result",
          "data": {
            "image/png": "[encoded data removed]",
            "text/plain": [
              "<IPython.core.display.Image object>"
            ]
          },
          "metadata": {
            "tags": []
          },
          "execution_count": 41
        }
      ]
    },
    {
      "cell_type": "code",
      "metadata": {
        "colab_type": "code",
        "id": "OpDV1J2VKbBT",
        "colab": {}
      },
      "source": [
        "#To avoid loosing our work ,we use model checkpoints so that the weights of the network nodes are saved to a file after every epoch.\n",
        "checkpoint_name = 'Weights-LSTM-improvement-{epoch:03d}-{loss:.5f}-bigger.hdf5'\n",
        "checkpoint = ModelCheckpoint(checkpoint_name, monitor='loss', verbose = 1, save_best_only = True, mode ='min')\n",
        "callbacks_list = [checkpoint]"
      ],
      "execution_count": 0,
      "outputs": []
    },
    {
      "cell_type": "markdown",
      "metadata": {
        "colab_type": "text",
        "id": "-NBCjVKZxU3E"
      },
      "source": [
        "### **4.2 Training the model**"
      ]
    },
    {
      "cell_type": "code",
      "metadata": {
        "colab_type": "code",
        "id": "E_XeY8daKa_D",
        "outputId": "a6b82b85-4678-431b-dff6-0d0f889fcf85",
        "colab": {
          "base_uri": "https://localhost:8080/",
          "height": 728
        }
      },
      "source": [
        "model_params = {'epochs':10, \n",
        "                'batch_size':128, \n",
        "                'callbacks':callbacks_list, \n",
        "                'verbose':1,\n",
        "                'validation_split':0.2,\n",
        "                'shuffle': True,\n",
        "                'initial_epoch':0}\n",
        "#training the model with parameters indicated in model_params\n",
        "model_history=model.fit(X,\n",
        "              y,\n",
        "              model_params['epochs'],\n",
        "               batch_size = model_params['batch_size'],\n",
        "               callbacks= model_params['callbacks'],\n",
        "               verbose = model_params['verbose'],\n",
        "               validation_split = model_params['validation_split'],\n",
        "               shuffle = model_params['shuffle'],\n",
        "               initial_epoch = model_params['initial_epoch']\n",
        "                 )"
      ],
      "execution_count": 0,
      "outputs": [
        {
          "output_type": "stream",
          "text": [
            "Train on 104158 samples, validate on 26040 samples\n",
            "Epoch 1/10\n",
            "104158/104158 [==============================] - 3663s 35ms/step - loss: 3.0268 - accuracy: 0.1736 - val_loss: 3.0226 - val_accuracy: 0.1748\n",
            "\n",
            "Epoch 00001: loss improved from inf to 3.02677, saving model to Weights-LSTM-improvement-001-3.02677-bigger.hdf5\n",
            "Epoch 2/10\n",
            "104158/104158 [==============================] - 3769s 36ms/step - loss: 3.0137 - accuracy: 0.1749 - val_loss: 3.0152 - val_accuracy: 0.1748\n",
            "\n",
            "Epoch 00002: loss improved from 3.02677 to 3.01369, saving model to Weights-LSTM-improvement-002-3.01369-bigger.hdf5\n",
            "Epoch 3/10\n",
            "104158/104158 [==============================] - 3678s 35ms/step - loss: 3.0115 - accuracy: 0.1749 - val_loss: 3.0138 - val_accuracy: 0.1748\n",
            "\n",
            "Epoch 00003: loss improved from 3.01369 to 3.01153, saving model to Weights-LSTM-improvement-003-3.01153-bigger.hdf5\n",
            "Epoch 4/10\n",
            "104158/104158 [==============================] - 3720s 36ms/step - loss: 3.0106 - accuracy: 0.1749 - val_loss: 3.0218 - val_accuracy: 0.1748\n",
            "\n",
            "Epoch 00004: loss improved from 3.01153 to 3.01061, saving model to Weights-LSTM-improvement-004-3.01061-bigger.hdf5\n",
            "Epoch 5/10\n",
            "104158/104158 [==============================] - 3697s 35ms/step - loss: 2.8983 - accuracy: 0.1993 - val_loss: 2.7754 - val_accuracy: 0.2279\n",
            "\n",
            "Epoch 00005: loss improved from 3.01061 to 2.89829, saving model to Weights-LSTM-improvement-005-2.89829-bigger.hdf5\n",
            "Epoch 6/10\n",
            "104158/104158 [==============================] - 3732s 36ms/step - loss: 2.7312 - accuracy: 0.2319 - val_loss: 2.6885 - val_accuracy: 0.2429\n",
            "\n",
            "Epoch 00006: loss improved from 2.89829 to 2.73124, saving model to Weights-LSTM-improvement-006-2.73124-bigger.hdf5\n",
            "Epoch 7/10\n",
            "104158/104158 [==============================] - 3644s 35ms/step - loss: 2.5913 - accuracy: 0.2585 - val_loss: 2.5565 - val_accuracy: 0.2725\n",
            "\n",
            "Epoch 00007: loss improved from 2.73124 to 2.59133, saving model to Weights-LSTM-improvement-007-2.59133-bigger.hdf5\n",
            "Epoch 8/10\n",
            "104158/104158 [==============================] - 3593s 34ms/step - loss: 2.4024 - accuracy: 0.3020 - val_loss: 2.4100 - val_accuracy: 0.3138\n",
            "\n",
            "Epoch 00008: loss improved from 2.59133 to 2.40243, saving model to Weights-LSTM-improvement-008-2.40243-bigger.hdf5\n",
            "Epoch 9/10\n",
            "104158/104158 [==============================] - 3582s 34ms/step - loss: 2.1391 - accuracy: 0.3727 - val_loss: 2.2655 - val_accuracy: 0.3656\n",
            "\n",
            "Epoch 00009: loss improved from 2.40243 to 2.13906, saving model to Weights-LSTM-improvement-009-2.13906-bigger.hdf5\n",
            "Epoch 10/10\n",
            "104158/104158 [==============================] - 3662s 35ms/step - loss: 1.8280 - accuracy: 0.4638 - val_loss: 2.1554 - val_accuracy: 0.4067\n",
            "\n",
            "Epoch 00010: loss improved from 2.13906 to 1.82804, saving model to Weights-LSTM-improvement-010-1.82804-bigger.hdf5\n"
          ],
          "name": "stdout"
        }
      ]
    },
    {
      "cell_type": "markdown",
      "metadata": {
        "id": "-tmaIKtLy4xf",
        "colab_type": "text"
      },
      "source": [
        "Thanks to using checkpoints , you can see that some files have been downloaded."
      ]
    },
    {
      "cell_type": "markdown",
      "metadata": {
        "id": "gSlOcw9cMky_",
        "colab_type": "text"
      },
      "source": [
        "## **5. Validation and model accuracy**"
      ]
    },
    {
      "cell_type": "markdown",
      "metadata": {
        "id": "BX5vKJBILVfX",
        "colab_type": "text"
      },
      "source": [
        "### **5.1 Validation**"
      ]
    },
    {
      "cell_type": "markdown",
      "metadata": {
        "id": "4mzYuucJzAWw",
        "colab_type": "text"
      },
      "source": [
        "We can validate our model by displaying values of accuracy of trained data, accuracy of validation data , loss on training data and loss on validation data."
      ]
    },
    {
      "cell_type": "code",
      "metadata": {
        "id": "CD5V9efhXVHp",
        "colab_type": "code",
        "outputId": "d01749cb-cfd0-42a5-9c4d-56aa330ec85b",
        "colab": {
          "base_uri": "https://localhost:8080/",
          "height": 710
        }
      },
      "source": [
        "model_history.history"
      ],
      "execution_count": 0,
      "outputs": [
        {
          "output_type": "execute_result",
          "data": {
            "text/plain": [
              "{'accuracy': [0.17361124,\n",
              "  0.17487855,\n",
              "  0.17487855,\n",
              "  0.17487855,\n",
              "  0.19929338,\n",
              "  0.2318977,\n",
              "  0.25852072,\n",
              "  0.30204114,\n",
              "  0.3726838,\n",
              "  0.463805],\n",
              " 'loss': [3.026765645265639,\n",
              "  3.01369178979778,\n",
              "  3.0115282396976384,\n",
              "  3.0106084034092637,\n",
              "  2.898293354390447,\n",
              "  2.731235963934433,\n",
              "  2.591326680444632,\n",
              "  2.4024336271845077,\n",
              "  2.139062542801718,\n",
              "  1.828040052303537],\n",
              " 'val_accuracy': [0.17484639585018158,\n",
              "  0.17484639585018158,\n",
              "  0.17484639585018158,\n",
              "  0.17484639585018158,\n",
              "  0.22788017988204956,\n",
              "  0.2429339438676834,\n",
              "  0.2725038528442383,\n",
              "  0.3138248920440674,\n",
              "  0.36555299162864685,\n",
              "  0.40668201446533203],\n",
              " 'val_loss': [3.0225998871886786,\n",
              "  3.0152142302781204,\n",
              "  3.0138280971075897,\n",
              "  3.021818243852958,\n",
              "  2.775411755624821,\n",
              "  2.6885177960227344,\n",
              "  2.556533015451856,\n",
              "  2.4100010668260894,\n",
              "  2.2655233014746927,\n",
              "  2.1554241846966486]}"
            ]
          },
          "metadata": {
            "tags": []
          },
          "execution_count": 44
        }
      ]
    },
    {
      "cell_type": "markdown",
      "metadata": {
        "id": "yiaJtGnazDpA",
        "colab_type": "text"
      },
      "source": [
        "We can visualize this graphically by plotting the history of our training."
      ]
    },
    {
      "cell_type": "code",
      "metadata": {
        "id": "5_2Y0_2mXYmc",
        "colab_type": "code",
        "outputId": "ec53608b-1ae0-4b1d-813d-09895e08f7b1",
        "colab": {
          "base_uri": "https://localhost:8080/",
          "height": 337
        }
      },
      "source": [
        "pd.DataFrame(model_history.history).plot(figsize=(8,5))"
      ],
      "execution_count": 0,
      "outputs": [
        {
          "output_type": "execute_result",
          "data": {
            "text/plain": [
              "<matplotlib.axes._subplots.AxesSubplot at 0x7f403c356240>"
            ]
          },
          "metadata": {
            "tags": []
          },
          "execution_count": 46
        },
        {
          "output_type": "display_data",
          "data": {
            "image/png": "[encoded data removed]",
            "text/plain": [
              "<Figure size 576x360 with 1 Axes>"
            ]
          },
          "metadata": {
            "tags": [],
            "needs_background": "light"
          }
        }
      ]
    },
    {
      "cell_type": "markdown",
      "metadata": {
        "id": "VgCDvBVLzHKn",
        "colab_type": "text"
      },
      "source": [
        "We can observe that the loss is decreasing and the accuracy is increasing . This proves that the model is learning effectively and that training the network through some more epochs will enable us to reach a satisfying accuracy."
      ]
    },
    {
      "cell_type": "markdown",
      "metadata": {
        "id": "SuTvWTCwLdG6",
        "colab_type": "text"
      },
      "source": [
        "### **5.2 Model Accuracy**"
      ]
    },
    {
      "cell_type": "code",
      "metadata": {
        "id": "czSY6mrjW86D",
        "colab_type": "code",
        "outputId": "ce586a91-dea1-4605-f129-40c6823eda14",
        "colab": {
          "base_uri": "https://localhost:8080/",
          "height": 52
        }
      },
      "source": [
        "#Checking the performance of the model\n",
        "model.evaluate(X_test,y_test)"
      ],
      "execution_count": 0,
      "outputs": [
        {
          "output_type": "stream",
          "text": [
            "43400/43400 [==============================] - 617s 14ms/step\n"
          ],
          "name": "stdout"
        },
        {
          "output_type": "execute_result",
          "data": {
            "text/plain": [
              "[2.1601990417181622, 0.4060138165950775]"
            ]
          },
          "metadata": {
            "tags": []
          },
          "execution_count": 47
        }
      ]
    },
    {
      "cell_type": "markdown",
      "metadata": {
        "id": "csgrOIpLNZu4",
        "colab_type": "text"
      },
      "source": [
        "## **6. Prediction and results**"
      ]
    },
    {
      "cell_type": "markdown",
      "metadata": {
        "id": "NgRCT90E1YKl",
        "colab_type": "text"
      },
      "source": [
        "### **6.1 Prediction**"
      ]
    },
    {
      "cell_type": "markdown",
      "metadata": {
        "id": "Q-SUdC-31df4",
        "colab_type": "text"
      },
      "source": [
        "Now that our model is built , trained , validated and tested , we can finally use it to predict output for new data and generate some fake lyrics."
      ]
    },
    {
      "cell_type": "code",
      "metadata": {
        "id": "OTMAQlsgNjLb",
        "colab_type": "code",
        "outputId": "58c536fa-5ada-4401-d36c-57c4ee5792df",
        "colab": {
          "base_uri": "https://localhost:8080/",
          "height": 260
        }
      },
      "source": [
        "start = np.random.randint(0, len(data_X)-1)#Returning a random number\n",
        "pattern = data_X[start]#we pick a random index in the list as our starting point\n",
        "print('Seed : ')\n",
        "print(\"\\\"\",''.join([int_chars[value] for value in pattern]), \"\\\"\\n\")\n",
        "\n",
        "generated_characters = 500 #generating 500 characters after initial sequence\n",
        "\n",
        "for i in range(generated_characters):\n",
        "    x = np.reshape(pattern, ( 1, len(pattern), 1))#We reshape the sequence x\n",
        "    x = x / float(n_vocab)#We normalize it\n",
        "    prediction = model.predict(x,verbose = 0)#We calculate the probability of each class to follow this sequence\n",
        "    index = np.argmax(prediction)#We detect the index of the highest probability\n",
        "    result = int_chars[index]#We map integer to character\n",
        "    sys.stdout.write(result)#we display the character(result of the prediction)\n",
        "    pattern.append(index)#We append this character to the sequence\n",
        "    pattern = pattern[1:len(pattern)]#We remove the first character of the sequence to obtain a new sequence and repeat the same process until predicting 500 characters.\n",
        "print('\\nDone')\n"
      ],
      "execution_count": 0,
      "outputs": [
        {
          "output_type": "stream",
          "text": [
            "Seed : \n",
            "\" es\n",
            "but i don't care 'cause right now you're mine\n",
            "and you'll say\n",
            "don't you worry your pretty little m \"\n",
            "\n",
            "o the loven bnd to bec you drere don i denl ie alw i can't hekt thet you\n",
            "wene thie mo to your wou kide the woul lnw i con't sann you cey you wer ma\n",
            "you bou thet lever wou had to beb tou doui\n",
            "in so your fore\n",
            "i kese you love thi way h denl tea wou\n",
            "aadk teel you ruind to foe you meke you aee derl btey dna thene iy nete\n",
            "and you doued she wou cot i doen wou wou wank to rha you coer tee cecus th tee tay the fart to thi wou wou doeet in the wour wou sorce you can tee wou and you lese me oee your and i \n",
            "Done\n"
          ],
          "name": "stdout"
        }
      ]
    },
    {
      "cell_type": "markdown",
      "metadata": {
        "id": "vx3u9SYN0Y-n",
        "colab_type": "text"
      },
      "source": [
        "Then we see our 500 characters being generated.."
      ]
    }
  ]
}